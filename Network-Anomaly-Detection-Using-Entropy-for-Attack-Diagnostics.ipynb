{
 "cells": [
  {
   "cell_type": "raw",
   "id": "3b744d5f",
   "metadata": {
    "vscode": {
     "languageId": "raw"
    }
   },
   "source": [
    "Network-Anomaly-Detection-Using-Entropy-for-Attack-Diagnostics"
   ]
  },
  {
   "cell_type": "code",
   "execution_count": 1,
   "id": "f157cf40",
   "metadata": {},
   "outputs": [],
   "source": [
    "import pandas as pd\n",
    "\n",
    "# Load the dataset\n",
    "df = pd.read_csv('server-log.txt', delim_whitespace=True)\n",
    "\n",
    "# Convert 'Start-Date' and 'Start-Time' to datetime format\n",
    "df['Start-Time'] = pd.to_datetime(df['Start-Date'] + ' ' + df['Start-Time'])\n",
    "\n",
    "# Extract hours, minutes, and seconds from 'Start-Time'\n",
    "df['Hour'] = df['Start-Time'].dt.hour\n",
    "df['Minute'] = df['Start-Time'].dt.minute\n",
    "df['Second'] = df['Start-Time'].dt.second\n",
    "\n",
    "# Process 'Duration' to extract the last two digits as seconds\n",
    "df['Duration-secs'] = df['Duration'].apply(lambda x: int(x[-2:]))\n"
   ]
  },
  {
   "cell_type": "code",
   "execution_count": 2,
   "id": "cec05ae0",
   "metadata": {},
   "outputs": [],
   "source": [
    "# Identify attacks that occurred between 8 am and 12 pm\n",
    "attacks_df = df[(df['Hour'] >= 8) & (df['Hour'] < 12)]\n"
   ]
  },
  {
   "cell_type": "code",
   "execution_count": 3,
   "id": "c8899184",
   "metadata": {},
   "outputs": [
    {
     "name": "stdout",
     "output_type": "stream",
     "text": [
      "\n",
      "Unique Suspicious Activities with Counts:\n",
      "       No  Start-Date          Start-Time  Duration Service Source-Port  \\\n",
      "0    2672  06/03/2014 2014-06-03 08:17:02  00:00:01    http        2594   \n",
      "1    3588  06/03/2014 2014-06-03 08:43:43  00:00:01    http        9909   \n",
      "2    3797  06/03/2014 2014-06-03 08:47:27  00:00:01    http       11334   \n",
      "3    4095  06/03/2014 2014-06-03 08:50:31  00:00:01    http       14447   \n",
      "4    4554  06/03/2014 2014-06-03 08:53:28  00:00:01    http       19130   \n",
      "5    4899  06/03/2014 2014-06-03 08:56:00  00:00:01    http       23579   \n",
      "6    6572  06/03/2014 2014-06-03 09:10:33  00:00:01    http        8253   \n",
      "7    6680  06/03/2014 2014-06-03 09:12:06  00:00:01    http        8806   \n",
      "8    7167  06/03/2014 2014-06-03 09:20:21  00:00:01    http       12989   \n",
      "9    7389  06/03/2014 2014-06-03 09:23:47  00:00:01    http       15458   \n",
      "10   8568  06/03/2014 2014-06-03 09:41:59  00:00:01    http       27209   \n",
      "11   9319  06/03/2014 2014-06-03 10:10:46  00:00:01    http        3258   \n",
      "12  10127  06/03/2014 2014-06-03 10:26:53  00:00:01    http       10498   \n",
      "13  10980  06/03/2014 2014-06-03 10:41:43  00:00:01    http       18520   \n",
      "14  11300  06/03/2014 2014-06-03 10:49:47  00:00:01    http       21666   \n",
      "15  12499  06/03/2014 2014-06-03 11:25:48  00:00:01    http       32161   \n",
      "16  13313  06/03/2014 2014-06-03 11:39:49  00:00:01    http        8295   \n",
      "\n",
      "   Distination-Port        Source-IP   Distination-IP  Hour  Minute  Second  \\\n",
      "0                80  172.016.113.084  134.205.165.120     8      17       2   \n",
      "1                80  172.016.116.044  199.095.074.090     8      43      43   \n",
      "2                80  172.016.114.148  207.025.071.143     8      47      27   \n",
      "3                80  172.016.117.111  207.046.130.138     8      50      31   \n",
      "4                80  172.016.117.111  167.008.029.015     8      53      28   \n",
      "5                80  172.016.117.111  199.095.074.090     8      56       0   \n",
      "6                80  172.016.112.149  192.005.214.020     9      10      33   \n",
      "7                80  172.016.117.111  208.134.241.210     9      12       6   \n",
      "8                80  172.016.113.084  137.245.085.134     9      20      21   \n",
      "9                80  172.016.117.103  207.046.130.138     9      23      47   \n",
      "10               80  172.016.113.105  204.017.042.016     9      41      59   \n",
      "11               80  172.016.113.105  207.229.128.201    10      10      46   \n",
      "12               80  172.016.114.148  205.181.112.065    10      26      53   \n",
      "13               80  172.016.116.044  204.120.165.055    10      41      43   \n",
      "14               80  172.016.114.207  207.025.071.143    10      49      47   \n",
      "15               80  172.016.113.084  206.184.238.129    11      25      48   \n",
      "16               80  172.016.117.052  208.134.241.210    11      39      49   \n",
      "\n",
      "    Duration-secs                             IP-Pair  Count  \n",
      "0               1  172.016.113.084 -> 134.205.165.120    132  \n",
      "1               1  172.016.116.044 -> 199.095.074.090    110  \n",
      "2               1  172.016.114.148 -> 207.025.071.143    181  \n",
      "3               1  172.016.117.111 -> 207.046.130.138    121  \n",
      "4               1  172.016.117.111 -> 167.008.029.015    129  \n",
      "5               1  172.016.117.111 -> 199.095.074.090    201  \n",
      "6               1  172.016.112.149 -> 192.005.214.020    118  \n",
      "7               1  172.016.117.111 -> 208.134.241.210    125  \n",
      "8               1  172.016.113.084 -> 137.245.085.134    119  \n",
      "9               1  172.016.117.103 -> 207.046.130.138    152  \n",
      "10              1  172.016.113.105 -> 204.017.042.016    104  \n",
      "11              1  172.016.113.105 -> 207.229.128.201    119  \n",
      "12              1  172.016.114.148 -> 205.181.112.065    129  \n",
      "13              1  172.016.116.044 -> 204.120.165.055    114  \n",
      "14              1  172.016.114.207 -> 207.025.071.143    107  \n",
      "15              1  172.016.113.084 -> 206.184.238.129    138  \n",
      "16              1  172.016.117.052 -> 208.134.241.210    129  \n",
      "IP-Pair\n",
      "172.016.117.111 -> 199.095.074.090    201\n",
      "172.016.114.148 -> 207.025.071.143    181\n",
      "172.016.117.103 -> 207.046.130.138    152\n",
      "172.016.113.084 -> 206.184.238.129    138\n",
      "172.016.113.084 -> 134.205.165.120    132\n",
      "                                     ... \n",
      "090.207.000.002 -> 172.016.114.050      1\n",
      "057.111.063.231 -> 172.016.114.050      1\n",
      "057.111.063.230 -> 172.016.114.050      1\n",
      "057.111.063.228 -> 172.016.114.050      1\n",
      "057.111.063.080 -> 172.016.114.050      1\n",
      "Name: count, Length: 1311, dtype: int64\n"
     ]
    },
    {
     "name": "stderr",
     "output_type": "stream",
     "text": [
      "/var/folders/_p/_1lxrdtn2bl95zxlwhyy1vlw0000gn/T/ipykernel_76829/1861990963.py:9: SettingWithCopyWarning: \n",
      "A value is trying to be set on a copy of a slice from a DataFrame.\n",
      "Try using .loc[row_indexer,col_indexer] = value instead\n",
      "\n",
      "See the caveats in the documentation: https://pandas.pydata.org/pandas-docs/stable/user_guide/indexing.html#returning-a-view-versus-a-copy\n",
      "  attacks_df['IP-Pair'] = attacks_df['Source-IP'] + ' -> ' + attacks_df['Distination-IP']\n"
     ]
    }
   ],
   "source": [
    "# Identify unusual values (e.g., suspicious services)\n",
    "suspicious_services = ['http', 'ntp/u', 'eco/i', 'smtp/u', 'scan/u', 'finger', 'domain/u', 'stats']\n",
    "\n",
    "# Add any other suspicious services to this list\n",
    "suspicious_attacks = attacks_df[attacks_df['Service'].isin(suspicious_services)]\n",
    "\n",
    "\n",
    "# Combine Source-IP and Destination-IP to form IP pairs\n",
    "attacks_df['IP-Pair'] = attacks_df['Source-IP'] + ' -> ' + attacks_df['Distination-IP']\n",
    "\n",
    "# Set a threshold for suspicious activity\n",
    "threshold = 100  # This can be adjusted as needed\n",
    "\n",
    "# Count occurrences of each IP pair\n",
    "ip_pair_counts = attacks_df['IP-Pair'].value_counts()\n",
    "\n",
    "# Identify suspicious IP pairs\n",
    "suspicious_ip_pairs = ip_pair_counts[ip_pair_counts > threshold]\n",
    "\n",
    "# Filter the original dataframe to include only rows with suspicious IP pairs\n",
    "suspicious_activities_df = attacks_df[attacks_df['IP-Pair'].isin(suspicious_ip_pairs.index)]\n",
    "\n",
    "# Group by IP pairs and count occurrences\n",
    "suspicious_ip_pair_counts = suspicious_activities_df.groupby('IP-Pair').size().reset_index(name='Count')\n",
    "\n",
    "# Merge the counts back into the suspicious activities dataframe, keeping only one row per IP-Pair\n",
    "unique_suspicious_activities = pd.merge(suspicious_activities_df.drop_duplicates(subset='IP-Pair'), \n",
    "                                        suspicious_ip_pair_counts, \n",
    "                                        on='IP-Pair')\n",
    "\n",
    "# Display the unique suspicious activities with their counts\n",
    "print(\"\\nUnique Suspicious Activities with Counts:\")\n",
    "print(unique_suspicious_activities)\n",
    "print(ip_pair_counts)"
   ]
  },
  {
   "cell_type": "code",
   "execution_count": 4,
   "id": "fbe0e4bb",
   "metadata": {},
   "outputs": [
    {
     "name": "stdout",
     "output_type": "stream",
     "text": [
      "Anomaly detected! Current entropy: 8.835617644292986\n"
     ]
    }
   ],
   "source": [
    "import numpy as np\n",
    "\n",
    "def calculate_entropy(counts):\n",
    "    total_count = sum(counts)\n",
    "    probabilities = [count / total_count for count in counts]\n",
    "    entropy = -sum(p * np.log2(p) for p in probabilities if p > 0)\n",
    "    return entropy\n",
    "\n",
    "def detect_anomaly(current_counts, baseline_entropy, threshold=0.5):\n",
    "    current_entropy = calculate_entropy(current_counts)\n",
    "    if abs(current_entropy - baseline_entropy) > threshold:\n",
    "        return True, current_entropy\n",
    "    return False, current_entropy\n",
    "\n",
    "# Example data\n",
    "baseline_entropy = 3.5\n",
    "threshold = 0.5\n",
    "\n",
    "is_anomaly, current_entropy = detect_anomaly(ip_pair_counts, baseline_entropy, threshold)\n",
    "if is_anomaly:\n",
    "    print(f\"Anomaly detected! Current entropy: {current_entropy}\")\n",
    "else:\n",
    "    print(f\"Traffic is normal. Current entropy: {current_entropy}\")\n"
   ]
  }
 ],
 "metadata": {
  "kernelspec": {
   "display_name": "Python 3 (ipykernel)",
   "language": "python",
   "name": "python3"
  },
  "language_info": {
   "codemirror_mode": {
    "name": "ipython",
    "version": 3
   },
   "file_extension": ".py",
   "mimetype": "text/x-python",
   "name": "python",
   "nbconvert_exporter": "python",
   "pygments_lexer": "ipython3",
   "version": "3.11.5"
  }
 },
 "nbformat": 4,
 "nbformat_minor": 5
}
